{
 "cells": [
  {
   "cell_type": "code",
   "execution_count": 20,
   "metadata": {},
   "outputs": [
    {
     "data": {
      "text/plain": [
       "[('India', 'NNP'),\n",
       " ('(', '('),\n",
       " ('ISO', 'NNP'),\n",
       " (':', ':'),\n",
       " ('Bhārat', 'NNP'),\n",
       " (')', ')'),\n",
       " (',', ','),\n",
       " ('also', 'RB'),\n",
       " ('known', 'VBN'),\n",
       " ('as', 'IN'),\n",
       " ('the', 'DT'),\n",
       " ('Republic', 'NNP'),\n",
       " ('of', 'IN'),\n",
       " ('India', 'NNP'),\n",
       " ('(', '('),\n",
       " ('ISO', 'NNP'),\n",
       " (':', ':'),\n",
       " ('Bhārat', 'NNP'),\n",
       " ('Gaṇarājya', 'NNP'),\n",
       " (')', ')'),\n",
       " (',', ','),\n",
       " ('is', 'VBZ'),\n",
       " ('a', 'DT'),\n",
       " ('country', 'NN'),\n",
       " ('in', 'IN'),\n",
       " ('South', 'NNP'),\n",
       " ('Asia', 'NNP'),\n",
       " ('.', '.'),\n",
       " ('It', 'PRP'),\n",
       " ('is', 'VBZ'),\n",
       " ('the', 'DT'),\n",
       " ('seventh', 'JJ'),\n",
       " ('largest', 'JJS'),\n",
       " ('country', 'NN'),\n",
       " ('by', 'IN'),\n",
       " ('area', 'NN'),\n",
       " ('and', 'CC'),\n",
       " ('with', 'IN'),\n",
       " ('more', 'JJR'),\n",
       " ('than', 'IN'),\n",
       " ('1.3', 'CD'),\n",
       " ('billion', 'CD'),\n",
       " ('people', 'NNS'),\n",
       " (',', ','),\n",
       " ('it', 'PRP'),\n",
       " ('is', 'VBZ'),\n",
       " ('the', 'DT'),\n",
       " ('second', 'JJ'),\n",
       " ('most', 'RBS'),\n",
       " ('populous', 'JJ'),\n",
       " ('country', 'NN'),\n",
       " ('as', 'RB'),\n",
       " ('well', 'RB'),\n",
       " ('as', 'IN'),\n",
       " ('the', 'DT'),\n",
       " ('most', 'RBS'),\n",
       " ('populous', 'JJ'),\n",
       " ('democracy', 'NN'),\n",
       " ('in', 'IN'),\n",
       " ('the', 'DT'),\n",
       " ('world', 'NN'),\n",
       " ('.', '.'),\n",
       " ('Bounded', 'VBN'),\n",
       " ('by', 'IN'),\n",
       " ('the', 'DT'),\n",
       " ('Indian', 'JJ'),\n",
       " ('Ocean', 'NNP'),\n",
       " ('on', 'IN'),\n",
       " ('the', 'DT'),\n",
       " ('south', 'NN'),\n",
       " (',', ','),\n",
       " ('the', 'DT'),\n",
       " ('Arabian', 'NNP'),\n",
       " ('Sea', 'NNP'),\n",
       " ('on', 'IN'),\n",
       " ('the', 'DT'),\n",
       " ('southwest', 'NN'),\n",
       " (',', ','),\n",
       " ('and', 'CC'),\n",
       " ('the', 'DT'),\n",
       " ('Bay', 'NNP'),\n",
       " ('of', 'IN'),\n",
       " ('Bengal', 'NNP'),\n",
       " ('on', 'IN'),\n",
       " ('the', 'DT'),\n",
       " ('southeast', 'NN'),\n",
       " (',', ','),\n",
       " ('it', 'PRP'),\n",
       " ('shares', 'NNS'),\n",
       " ('land', 'VBZ'),\n",
       " ('borders', 'NNS'),\n",
       " ('with', 'IN'),\n",
       " ('Pakistan', 'NNP'),\n",
       " ('to', 'TO'),\n",
       " ('the', 'DT'),\n",
       " ('west', 'NN'),\n",
       " (';', ':'),\n",
       " ('China', 'NNP'),\n",
       " (',', ','),\n",
       " ('Nepal', 'NNP')]"
      ]
     },
     "execution_count": 20,
     "metadata": {},
     "output_type": "execute_result"
    }
   ],
   "source": [
    "import wikipedia as wiki\n",
    "import nltk\n",
    "from nltk.tokenize import word_tokenize\n",
    "country=wiki.summary('india')\n",
    "count=word_tokenize(country)\n",
    "sample=count[0:100]\n",
    "gagan=nltk.pos_tag(sample)\n",
    "gagan\n"
   ]
  },
  {
   "cell_type": "code",
   "execution_count": 15,
   "metadata": {},
   "outputs": [
    {
     "name": "stdout",
     "output_type": "stream",
     "text": [
      "NNP: noun, proper, singular\n",
      "    Motown Venneboerger Czestochwa Ranzer Conchita Trumplane Christos\n",
      "    Oceanside Escobar Kreisler Sawyer Cougar Yvette Ervin ODI Darryl CTCA\n",
      "    Shannon A.K.C. Meltex Liverpool ...\n"
     ]
    }
   ],
   "source": [
    "nltk.help.upenn_tagset('NNP')"
   ]
  },
  {
   "cell_type": "code",
   "execution_count": 26,
   "metadata": {},
   "outputs": [
    {
     "name": "stdout",
     "output_type": "stream",
     "text": [
      "India\n",
      "ISO\n",
      "Bhārat\n",
      "Republic\n",
      "India\n",
      "ISO\n",
      "Bhārat\n",
      "Gaṇarājya\n",
      "South\n",
      "Asia\n",
      "Ocean\n",
      "Arabian\n",
      "Sea\n",
      "Bay\n",
      "Bengal\n",
      "Pakistan\n",
      "China\n",
      "Nepal\n"
     ]
    }
   ],
   "source": [
    "for i in range (0,len(gagan)):\n",
    " if gagan[i][1]=='NNP':\n",
    "    print (gagan[i][0])"
   ]
  },
  {
   "cell_type": "code",
   "execution_count": null,
   "metadata": {},
   "outputs": [],
   "source": []
  },
  {
   "cell_type": "code",
   "execution_count": null,
   "metadata": {},
   "outputs": [],
   "source": []
  },
  {
   "cell_type": "code",
   "execution_count": null,
   "metadata": {},
   "outputs": [],
   "source": []
  }
 ],
 "metadata": {
  "kernelspec": {
   "display_name": "Python 3",
   "language": "python",
   "name": "python3"
  },
  "language_info": {
   "codemirror_mode": {
    "name": "ipython",
    "version": 3
   },
   "file_extension": ".py",
   "mimetype": "text/x-python",
   "name": "python",
   "nbconvert_exporter": "python",
   "pygments_lexer": "ipython3",
   "version": "3.6.5"
  }
 },
 "nbformat": 4,
 "nbformat_minor": 2
}
